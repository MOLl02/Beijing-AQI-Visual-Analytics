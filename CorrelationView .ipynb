{
 "cells": [
  {
   "cell_type": "code",
   "execution_count": 1,
   "id": "47cd62ff",
   "metadata": {},
   "outputs": [],
   "source": [
    "import pandas as pd\n",
    "import numpy as np\n",
    "result = pd.read_csv('concatenated_data.csv')"
   ]
  },
  {
   "cell_type": "code",
   "execution_count": 2,
   "id": "fbb98e62",
   "metadata": {},
   "outputs": [
    {
     "data": {
      "application/vnd.jupyter.widget-view+json": {
       "model_id": "ff98c363453b45caaab62c126a3ab513",
       "version_major": 2,
       "version_minor": 0
      },
      "text/plain": [
       "interactive(children=(Dropdown(description='attribute_x', options=('PM2.5', 'PM10', 'SO2', 'NO2', 'CO', 'O3', …"
      ]
     },
     "metadata": {},
     "output_type": "display_data"
    },
    {
     "data": {
      "text/plain": [
       "<function __main__.interactive_correlation_plot(attribute_x, attribute_y, stations, start_date, end_date)>"
      ]
     },
     "execution_count": 2,
     "metadata": {},
     "output_type": "execute_result"
    },
    {
     "name": "stderr",
     "output_type": "stream",
     "text": [
      "D:\\Anaconda\\lib\\site-packages\\traitlets\\traitlets.py:697: FutureWarning: Comparison of Timestamp with datetime.date is deprecated in order to match the standard library behavior. In a future version these will be considered non-comparable. Use 'ts == pd.Timestamp(date)' or 'ts.date() == date' instead.\n",
      "  silent = bool(old_value == new_value)\n",
      "D:\\Anaconda\\lib\\site-packages\\traitlets\\traitlets.py:697: FutureWarning: Comparison of Timestamp with datetime.date is deprecated in order to match the standard library behavior. In a future version these will be considered non-comparable. Use 'ts == pd.Timestamp(date)' or 'ts.date() == date' instead.\n",
      "  silent = bool(old_value == new_value)\n"
     ]
    }
   ],
   "source": [
    "import matplotlib.pyplot as plt\n",
    "import seaborn as sns\n",
    "import plotly.express as px\n",
    "from ipywidgets import interact, widgets\n",
    "\n",
    "result['date'] = pd.to_datetime(result[['year', 'month', 'day', 'hour']])\n",
    "# Create a dictionary to map station IDs to station names\n",
    "station_names = {\n",
    "    1: 'Aotizhongxin',\n",
    "    2: 'Changping',\n",
    "    3: 'Dingling',\n",
    "    4: 'Dongsi',\n",
    "    5: 'Guanyuan',\n",
    "    6: 'Gucheng',\n",
    "    7: 'Huairou',\n",
    "    8: 'Nongzhanguan',\n",
    "    9: 'Shunyi',\n",
    "    10: 'Tiantan',\n",
    "    11: 'Wanliu',\n",
    "    12: 'Wanshouxigong',\n",
    "}\n",
    "\n",
    "def interactive_correlation_plot(attribute_x, attribute_y, stations, start_date, end_date):\n",
    "    start_date = pd.to_datetime(start_date)\n",
    "    end_date = pd.to_datetime(end_date)\n",
    "    filtered_df = result[(result['date'] >= start_date) & (result['date'] <= end_date) & (result['station'].isin(stations))]\n",
    "    \n",
    "    # Create a temporary DataFrame with station names for legend display\n",
    "    temp_df = filtered_df.copy()\n",
    "    temp_df['station_name'] = temp_df['station'].map(station_names)\n",
    "    \n",
    "    sns.scatterplot(data=temp_df, x=attribute_x, y=attribute_y, hue='station_name', palette='deep')\n",
    "    plt.title(f'Correlation between {attribute_x} and {attribute_y}')\n",
    "    plt.show()\n",
    "\n",
    "attributes = ['PM2.5', 'PM10', 'SO2', 'NO2', 'CO', 'O3', 'TEMP', 'PRES', 'DEWP', 'RAIN', 'WSPM', 'wd']\n",
    "stations = result['station'].unique()\n",
    "\n",
    "# Create a list of tuples with station IDs and names for the selection widget\n",
    "station_options = [(station_names[station], station) for station in stations]\n",
    "\n",
    "interact(\n",
    "    interactive_correlation_plot,\n",
    "    attribute_x=attributes,\n",
    "    attribute_y=attributes,\n",
    "    stations=widgets.SelectMultiple(options=station_options, value=[stations[0]], description='Stations'),\n",
    "    start_date=widgets.DatePicker(value=result['date'].min()),\n",
    "    end_date=widgets.DatePicker(value=result['date'].max())\n",
    ")"
   ]
  },
  {
   "cell_type": "code",
   "execution_count": null,
   "id": "9bc64eec",
   "metadata": {},
   "outputs": [],
   "source": []
  }
 ],
 "metadata": {
  "hide_input": false,
  "kernelspec": {
   "display_name": "Python 3 (ipykernel)",
   "language": "python",
   "name": "python3"
  },
  "language_info": {
   "codemirror_mode": {
    "name": "ipython",
    "version": 3
   },
   "file_extension": ".py",
   "mimetype": "text/x-python",
   "name": "python",
   "nbconvert_exporter": "python",
   "pygments_lexer": "ipython3",
   "version": "3.8.13"
  }
 },
 "nbformat": 4,
 "nbformat_minor": 5
}
