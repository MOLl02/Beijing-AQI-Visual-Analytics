{
 "cells": [
  {
   "cell_type": "code",
   "execution_count": 5,
   "id": "25bc4306",
   "metadata": {},
   "outputs": [
    {
     "data": {
      "application/vnd.jupyter.widget-view+json": {
       "model_id": "7605ba7f6c1f4a8cbe39c9101d909957",
       "version_major": 2,
       "version_minor": 0
      },
      "text/plain": [
       "interactive(children=(Dropdown(description='Attribute:', options=('PM2.5', 'PM10', 'SO2', 'NO2', 'CO', 'O3', '…"
      ]
     },
     "metadata": {},
     "output_type": "display_data"
    }
   ],
   "source": [
    "import pandas as pd\n",
    "import numpy as np\n",
    "import matplotlib.pyplot as plt\n",
    "import seaborn as sns\n",
    "from ipywidgets import interact, Dropdown\n",
    "\n",
    "df = pd.read_csv('concatenated_data.csv')\n",
    "station_names = {\n",
    "    1: 'Aotizhongxin',\n",
    "    2: 'Changping',\n",
    "    3: 'Dingling',\n",
    "    4: 'Dongsi',\n",
    "    5: 'Guanyuan',\n",
    "    6: 'Gucheng',\n",
    "    7: 'Huairou',\n",
    "    8: 'Nongzhanguan',\n",
    "    9: 'Shunyi',\n",
    "    10: 'Tiantan',\n",
    "    11: 'Wanliu',\n",
    "    12: 'Wanshouxigong',\n",
    "}\n",
    "def update_heatmap(attr, station):\n",
    "    \n",
    "    specific_station = station\n",
    "    df_filtered = df[df['station'] == specific_station]\n",
    "\n",
    "    pivot_data = df_filtered.groupby(['year', 'month'])[attr].mean().unstack()\n",
    "    normalized_data_df = pd.DataFrame(pivot_data)\n",
    "    normalized_data_df = (normalized_data_df - normalized_data_df.min().min()) / (\n",
    "        normalized_data_df.max().max() - normalized_data_df.min().min())\n",
    "    n_years = len(pivot_data)\n",
    "    n_months = len(pivot_data.columns)\n",
    "\n",
    "    theta = np.linspace(0, 2 * np.pi, n_months + 1)\n",
    "    radii = np.linspace(0.1, 1, n_years + 1)\n",
    "\n",
    "    fig, ax = plt.subplots(subplot_kw={'projection': 'polar'}, figsize=(8, 8))\n",
    "    ax.set_theta_zero_location('N')\n",
    "    ax.set_theta_direction(-1)\n",
    "\n",
    "    # Create grid\n",
    "    for month in range(n_months):\n",
    "        ax.plot([theta[month], theta[month]], [0.1, 1], 'k', lw=0.5, alpha=0.5)\n",
    "    for year in range(n_years):\n",
    "        ax.plot(theta, np.full_like(theta, radii[year]), 'k', lw=0.5, alpha=0.5)\n",
    "\n",
    "    # Create heatmap\n",
    "    for year in range(n_years):\n",
    "        for month in range(n_months):\n",
    "            value = normalized_data_df.iloc[year, month]\n",
    "            color = plt.cm.get_cmap('coolwarm')(value)\n",
    "            ax.fill_between([theta[month], theta[month+1]], radii[year], radii[year+1], color=color)\n",
    "\n",
    "    month_names = ['Jan', 'Feb', 'Mar', 'Apr', 'May', 'Jun',\n",
    "                   'Jul', 'Aug', 'Sep', 'Oct', 'Nov', 'Dec']\n",
    "    ax.set_xticks(theta[:-1])\n",
    "    ax.set_xticklabels(month_names)\n",
    "    ax.set_yticks(radii[:-1])\n",
    "    ax.set_yticklabels(pivot_data.index)\n",
    "    ax.yaxis.set_tick_params(pad=10)\n",
    "\n",
    "    # Add colorbar\n",
    "    cbar = fig.colorbar(plt.cm.ScalarMappable(cmap='coolwarm', norm=plt.Normalize(vmin=pivot_data.min().min(), vmax=pivot_data.max().max())),\n",
    "                        ax=ax, pad=0.1, shrink=0.7, aspect=30)\n",
    "    cbar.ax.set_ylabel('{} ({:.2f} - {:.2f})'.format(attr, pivot_data.min().min(), pivot_data.max().max()), rotation=270, labelpad=15)\n",
    "\n",
    "    plt.show()\n",
    "\n",
    "attr_dropdown = Dropdown(options=['PM2.5', 'PM10', 'SO2', 'NO2', 'CO', 'O3', 'TEMP', 'PRES', 'DEWP', 'RAIN', 'wd', 'WSPM'], value='PM2.5', description='Attribute:')\n",
    "station_dropdown = Dropdown(\n",
    "    options=[(station_names[i], i) for i in range(1, 13)],\n",
    "    value=1,\n",
    "    description='Station:'\n",
    ")\n",
    "\n",
    "interact(update_heatmap, attr=attr_dropdown, station=station_dropdown);\n"
   ]
  },
  {
   "cell_type": "code",
   "execution_count": null,
   "id": "fe743f1e",
   "metadata": {},
   "outputs": [],
   "source": []
  }
 ],
 "metadata": {
  "hide_input": false,
  "kernelspec": {
   "display_name": "Python 3 (ipykernel)",
   "language": "python",
   "name": "python3"
  },
  "language_info": {
   "codemirror_mode": {
    "name": "ipython",
    "version": 3
   },
   "file_extension": ".py",
   "mimetype": "text/x-python",
   "name": "python",
   "nbconvert_exporter": "python",
   "pygments_lexer": "ipython3",
   "version": "3.8.13"
  }
 },
 "nbformat": 4,
 "nbformat_minor": 5
}
