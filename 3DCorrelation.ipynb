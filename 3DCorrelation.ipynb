{
 "cells": [
  {
   "cell_type": "code",
   "execution_count": 39,
   "id": "a95d0040",
   "metadata": {},
   "outputs": [
    {
     "data": {
      "application/vnd.jupyter.widget-view+json": {
       "model_id": "5d50cf73bd6d472491a971a65fe95da4",
       "version_major": 2,
       "version_minor": 0
      },
      "text/plain": [
       "Dropdown(description='X-axis:', options=('PM2.5', 'PM10', 'SO2', 'NO2', 'CO', 'O3', 'TEMP', 'PRES', 'DEWP', 'R…"
      ]
     },
     "metadata": {},
     "output_type": "display_data"
    },
    {
     "data": {
      "application/vnd.jupyter.widget-view+json": {
       "model_id": "ef5eb4b393d14d15add29b38b7c7a07a",
       "version_major": 2,
       "version_minor": 0
      },
      "text/plain": [
       "Dropdown(description='Y-axis:', index=1, options=('PM2.5', 'PM10', 'SO2', 'NO2', 'CO', 'O3', 'TEMP', 'PRES', '…"
      ]
     },
     "metadata": {},
     "output_type": "display_data"
    },
    {
     "data": {
      "application/vnd.jupyter.widget-view+json": {
       "model_id": "ecb37d2082464bfd942a1676bd9ccda9",
       "version_major": 2,
       "version_minor": 0
      },
      "text/plain": [
       "Dropdown(description='Z-axis:', index=6, options=('PM2.5', 'PM10', 'SO2', 'NO2', 'CO', 'O3', 'TEMP', 'PRES', '…"
      ]
     },
     "metadata": {},
     "output_type": "display_data"
    },
    {
     "data": {
      "application/vnd.jupyter.widget-view+json": {
       "model_id": "e6b12f2df7c3493ebe08490d2f360dc4",
       "version_major": 2,
       "version_minor": 0
      },
      "text/plain": [
       "SelectMultiple(description='Stations:', index=(0, 1), options=(('Aotizhongxin', 1), ('Changping', 2), ('Dingli…"
      ]
     },
     "metadata": {},
     "output_type": "display_data"
    },
    {
     "data": {
      "application/vnd.jupyter.widget-view+json": {
       "model_id": "b999ccabd471404dadd65e54e15bad9d",
       "version_major": 2,
       "version_minor": 0
      },
      "text/plain": [
       "VBox(children=(HBox(children=(SelectionRangeSlider(continuous_update=False, description='Date Range:', index=(…"
      ]
     },
     "metadata": {},
     "output_type": "display_data"
    },
    {
     "data": {
      "application/vnd.jupyter.widget-view+json": {
       "model_id": "9b0a785a86d04985bc284cee36b8b404",
       "version_major": 2,
       "version_minor": 0
      },
      "text/plain": [
       "Output()"
      ]
     },
     "metadata": {},
     "output_type": "display_data"
    }
   ],
   "source": [
    "import pandas as pd\n",
    "import plotly.graph_objs as go\n",
    "import ipywidgets as widgets\n",
    "from IPython.display import display\n",
    "\n",
    "df = pd.read_csv('concatenated_data.csv')\n",
    "\n",
    "# Convert 'year', 'month', and 'day' columns to datetime format\n",
    "df['date'] = pd.to_datetime(df[['year', 'month', 'day']])\n",
    "\n",
    "station_names = {\n",
    "    1: 'Aotizhongxin',\n",
    "    2: 'Changping',\n",
    "    3: 'Dingling',\n",
    "    4: 'Dongsi',\n",
    "    5: 'Guanyuan',\n",
    "    6: 'Gucheng',\n",
    "    7: 'Huairou',\n",
    "    8: 'Nongzhanguan',\n",
    "    9: 'Shunyi',\n",
    "    10: 'Tiantan',\n",
    "    11: 'Wanliu',\n",
    "    12: 'Wanshouxigong',\n",
    "}\n",
    "\n",
    "# Create widgets\n",
    "x_dropdown = widgets.Dropdown(\n",
    "    options=['PM2.5', 'PM10', 'SO2', 'NO2', 'CO', 'O3', 'TEMP', 'PRES', 'DEWP', 'RAIN', 'wd', 'WSPM'],\n",
    "    value='PM2.5',\n",
    "    description='X-axis:'\n",
    ")\n",
    "\n",
    "y_dropdown = widgets.Dropdown(\n",
    "    options=['PM2.5', 'PM10', 'SO2', 'NO2', 'CO', 'O3', 'TEMP', 'PRES', 'DEWP', 'RAIN', 'wd', 'WSPM'],\n",
    "    value='PM10',\n",
    "    description='Y-axis:'\n",
    ")\n",
    "\n",
    "z_dropdown = widgets.Dropdown(\n",
    "    options=['PM2.5', 'PM10', 'SO2', 'NO2', 'CO', 'O3', 'TEMP', 'PRES', 'DEWP', 'RAIN', 'wd', 'WSPM'],\n",
    "    value='TEMP',\n",
    "    description='Z-axis:'\n",
    ")\n",
    "\n",
    "stations_dropdown = widgets.SelectMultiple(\n",
    "    options=[(station_names[i], i) for i in range(1, 13)],\n",
    "    value=[1, 2],\n",
    "    description='Stations:'\n",
    ")\n",
    "\n",
    "from ipywidgets import SelectionRangeSlider, HBox, VBox, Label, Layout\n",
    "\n",
    "date_range_slider = widgets.SelectionRangeSlider(\n",
    "    options=pd.date_range(df['date'].min(), df['date'].max(), freq='D'),\n",
    "    index=(0, len(pd.date_range(df['date'].min(), df['date'].max(), freq='D')) - 1),\n",
    "    description='Date Range:',\n",
    "    continuous_update=False,\n",
    "    layout={'width': '600px'},\n",
    "    readout = False\n",
    ")\n",
    "# increase the width of the display area by updating its style\n",
    "date_range_slider.style.handle_width = '50px'\n",
    "date_range_slider.style.readout_width = '500px'\n",
    "\n",
    "# create a Label widget to display the selected range\n",
    "selected_info = Label(\n",
    "    value=f'Selected Range: {date_range_slider.value[0]} - {date_range_slider.value[1]}',\n",
    "    layout=Layout(margin='0 0 0 0px', width='500px')\n",
    ")\n",
    "\n",
    "# update the selected range when the value of the SelectionRangeSlider changes\n",
    "def update_info(change):\n",
    "    selected_info.value = f'Selected Range: {date_range_slider.value[0]} - {date_range_slider.value[1]}'\n",
    "date_range_slider.observe(update_info, 'value')\n",
    "\n",
    "# display the widgets in an HBox\n",
    "hbox = HBox([date_range_slider, selected_info])\n",
    "\n",
    "# display the HBox in a VBox to allow for additional widgets below\n",
    "vbox = VBox([hbox])\n",
    "\n",
    "# display the widgets\n",
    "\n",
    "#date_range_slider.layout.width = '500px'\n",
    "\n",
    "# Function to create the 3D scatter plot\n",
    "def create_scatter_plot(x, y, z, stations, date_range):\n",
    "    start_date, end_date = date_range\n",
    "    filtered_df = df[df['date'].between(start_date, end_date)]\n",
    "    \n",
    "    fig = go.Figure()\n",
    "\n",
    "    for station in stations:\n",
    "        station_df = filtered_df[filtered_df['station'] == station]\n",
    "        fig.add_trace(go.Scatter3d(\n",
    "            x=station_df[x],\n",
    "            y=station_df[y],\n",
    "            z=station_df[z],\n",
    "            mode='markers',\n",
    "            marker=dict(size=3),\n",
    "            name=station_names[station]\n",
    "        ))\n",
    "\n",
    "    fig.update_layout(scene=dict(\n",
    "        xaxis_title=x,\n",
    "        yaxis_title=y,\n",
    "        zaxis_title=z\n",
    "    ))\n",
    "\n",
    "    fig.show()\n",
    "\n",
    "# Create interactive output\n",
    "output = widgets.interactive_output(\n",
    "    create_scatter_plot,\n",
    "    {\n",
    "        'x': x_dropdown,\n",
    "        'y': y_dropdown,\n",
    "        'z': z_dropdown,\n",
    "        'stations': stations_dropdown,\n",
    "        'date_range': date_range_slider\n",
    "    }\n",
    ")\n",
    "\n",
    "# Display widgets and output\n",
    "display(x_dropdown, y_dropdown, z_dropdown, stations_dropdown, vbox, output)\n",
    "       \n"
   ]
  },
  {
   "cell_type": "code",
   "execution_count": null,
   "id": "a1ad8a5a",
   "metadata": {},
   "outputs": [],
   "source": []
  }
 ],
 "metadata": {
  "hide_input": false,
  "kernelspec": {
   "display_name": "Python 3 (ipykernel)",
   "language": "python",
   "name": "python3"
  },
  "language_info": {
   "codemirror_mode": {
    "name": "ipython",
    "version": 3
   },
   "file_extension": ".py",
   "mimetype": "text/x-python",
   "name": "python",
   "nbconvert_exporter": "python",
   "pygments_lexer": "ipython3",
   "version": "3.8.13"
  }
 },
 "nbformat": 4,
 "nbformat_minor": 5
}
