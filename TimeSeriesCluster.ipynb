{
 "cells": [
  {
   "cell_type": "code",
   "execution_count": 1,
   "id": "974b22ab",
   "metadata": {},
   "outputs": [
    {
     "data": {
      "application/vnd.jupyter.widget-view+json": {
       "model_id": "a57aba76f37541b9b6a1be49b9ac5cd6",
       "version_major": 2,
       "version_minor": 0
      },
      "text/plain": [
       "Dropdown(description='Station:', options=(('Aotizhongxin', 1), ('Changping', 2), ('Dingling', 3), ('Dongsi', 4…"
      ]
     },
     "metadata": {},
     "output_type": "display_data"
    },
    {
     "data": {
      "application/vnd.jupyter.widget-view+json": {
       "model_id": "6b3d0f06283246a28dd93b7c224b5ab9",
       "version_major": 2,
       "version_minor": 0
      },
      "text/plain": [
       "SelectMultiple(description='Attributes:', index=(0, 1, 2), options=('PM2.5', 'PM10', 'SO2', 'NO2', 'CO', 'O3',…"
      ]
     },
     "metadata": {},
     "output_type": "display_data"
    },
    {
     "data": {
      "application/vnd.jupyter.widget-view+json": {
       "model_id": "66a97eab430f4b34925a3c19e8d53fed",
       "version_major": 2,
       "version_minor": 0
      },
      "text/plain": [
       "IntSlider(value=3, description='Clusters:', max=10, min=2)"
      ]
     },
     "metadata": {},
     "output_type": "display_data"
    },
    {
     "data": {
      "application/vnd.jupyter.widget-view+json": {
       "model_id": "9fbd6ac2b53b4f7d8fd42900db2f094c",
       "version_major": 2,
       "version_minor": 0
      },
      "text/plain": [
       "VBox(children=(HBox(children=(SelectionRangeSlider(continuous_update=False, description='Date Range:', index=(…"
      ]
     },
     "metadata": {},
     "output_type": "display_data"
    },
    {
     "data": {
      "application/vnd.jupyter.widget-view+json": {
       "model_id": "db51a4da60204f0894987b0556c35315",
       "version_major": 2,
       "version_minor": 0
      },
      "text/plain": [
       "Dropdown(description='Y-axis:', options=('PM2.5', 'PM10', 'SO2', 'NO2', 'CO', 'O3', 'TEMP', 'PRES', 'DEWP', 'R…"
      ]
     },
     "metadata": {},
     "output_type": "display_data"
    },
    {
     "data": {
      "application/vnd.jupyter.widget-view+json": {
       "model_id": "e4523cbfc516416195b8f6c3bd3cd9c8",
       "version_major": 2,
       "version_minor": 0
      },
      "text/plain": [
       "Output()"
      ]
     },
     "metadata": {},
     "output_type": "display_data"
    }
   ],
   "source": [
    "import pandas as pd\n",
    "import numpy as np\n",
    "import matplotlib.pyplot as plt\n",
    "import ipywidgets as widgets\n",
    "from IPython.display import display\n",
    "from sklearn.cluster import KMeans\n",
    "from IPython.display import clear_output\n",
    "\n",
    "# Assuming you have a DataFrame named df with the given attributes\n",
    "df = pd.read_csv('concatenated_data.csv')\n",
    "# Convert 'year', 'month', and 'day' columns to datetime format\n",
    "df['date'] = pd.to_datetime(df[['year', 'month', 'day']])\n",
    "\n",
    "station_names = {\n",
    "    1: 'Aotizhongxin',\n",
    "    2: 'Changping',\n",
    "    3: 'Dingling',\n",
    "    4: 'Dongsi',\n",
    "    5: 'Guanyuan',\n",
    "    6: 'Gucheng',\n",
    "    7: 'Huairou',\n",
    "    8: 'Nongzhanguan',\n",
    "    9: 'Shunyi',\n",
    "    10: 'Tiantan',\n",
    "    11: 'Wanliu',\n",
    "    12: 'Wanshouxigong',\n",
    "}\n",
    "\n",
    "# Create widgets\n",
    "station_dropdown = widgets.Dropdown(\n",
    "    options=[(station_names[i], i) for i in range(1, 13)],\n",
    "    value=1,\n",
    "    description='Station:'\n",
    ")\n",
    "\n",
    "attribute_multiselect = widgets.SelectMultiple(\n",
    "    options=['PM2.5', 'PM10', 'SO2', 'NO2', 'CO', 'O3', 'TEMP', 'PRES', 'DEWP', 'RAIN', 'WSPM'],\n",
    "    value=['PM2.5', 'PM10', 'SO2'],\n",
    "    description='Attributes:'\n",
    ")\n",
    "\n",
    "num_clusters_spinner = widgets.IntSlider(\n",
    "    value=3,\n",
    "    min=2,\n",
    "    max=10,\n",
    "    step=1,\n",
    "    description='Clusters:'\n",
    ")\n",
    "\n",
    "from ipywidgets import SelectionRangeSlider, HBox, VBox, Label, Layout\n",
    "\n",
    "date_range_slider = widgets.SelectionRangeSlider(\n",
    "    options=pd.date_range(df['date'].min(), df['date'].max(), freq='D'),\n",
    "    index=(0, len(pd.date_range(df['date'].min(), df['date'].max(), freq='D')) - 1),\n",
    "    description='Date Range:',\n",
    "    continuous_update=False,\n",
    "    layout={'width': '600px'},\n",
    "    readout = False\n",
    ")\n",
    "# increase the width of the display area by updating its style\n",
    "date_range_slider.style.handle_width = '50px'\n",
    "date_range_slider.style.readout_width = '500px'\n",
    "\n",
    "# create a Label widget to display the selected range\n",
    "selected_info = Label(\n",
    "    value=f'Selected Range: {date_range_slider.value[0]} - {date_range_slider.value[1]}',\n",
    "    layout=Layout(margin='0 0 0 0px', width='500px')\n",
    ")\n",
    "\n",
    "# update the selected range when the value of the SelectionRangeSlider changes\n",
    "def update_info(change):\n",
    "    selected_info.value = f'Selected Range: {date_range_slider.value[0]} - {date_range_slider.value[1]}'\n",
    "date_range_slider.observe(update_info, 'value')\n",
    "\n",
    "# display the widgets in an HBox\n",
    "hbox = HBox([date_range_slider, selected_info])\n",
    "\n",
    "# display the HBox in a VBox to allow for additional widgets below\n",
    "vbox = VBox([hbox])\n",
    "\n",
    "# Create an additional dropdown widget for the y-axis attribute selection\n",
    "yaxis_attribute_dropdown = widgets.Dropdown(\n",
    "    options=['PM2.5', 'PM10', 'SO2', 'NO2', 'CO', 'O3', 'TEMP', 'PRES', 'DEWP', 'RAIN', 'WSPM'],\n",
    "    value='PM2.5',\n",
    "    description='Y-axis:'\n",
    ")\n",
    "\n",
    "# Modify the create_time_series_plot function to include the y_axis parameter\n",
    "def create_time_series_plot(station, attributes, num_clusters, date_range, y_axis):\n",
    "    clear_output(wait=True)\n",
    "    start_date, end_date = date_range\n",
    "    filtered_df = df[(df['station'] == station) & (df['date'].between(start_date, end_date))].copy()\n",
    "    \n",
    "    # Perform clustering\n",
    "    clustering_data = filtered_df[list(attributes)]\n",
    "    kmeans = KMeans(n_clusters=num_clusters, random_state=0).fit(clustering_data)\n",
    "    filtered_df['cluster'] = kmeans.labels_\n",
    "\n",
    "    fig, ax = plt.subplots(figsize=(12, 6))\n",
    "\n",
    "    for cluster in range(num_clusters):\n",
    "        cluster_df = filtered_df[filtered_df['cluster'] == cluster]\n",
    "        ax.scatter(cluster_df['date'], cluster_df[y_axis], s=3, label=f'Cluster {cluster}')\n",
    "\n",
    "    ax.set(xlabel='Date', ylabel=y_axis)\n",
    "    ax.legend()\n",
    "    plt.show()\n",
    "\n",
    "# Update the interactive output to include the y_axis attribute\n",
    "output = widgets.interactive_output(\n",
    "    create_time_series_plot,\n",
    "    {\n",
    "        'station': station_dropdown,\n",
    "        'attributes': attribute_multiselect,\n",
    "        'num_clusters': num_clusters_spinner,\n",
    "        'date_range': date_range_slider,\n",
    "        'y_axis': yaxis_attribute_dropdown\n",
    "    }\n",
    ")\n",
    "\n",
    "# Display the new y-axis attribute dropdown along with the other widgets and output\n",
    "display(station_dropdown, attribute_multiselect, num_clusters_spinner, vbox, yaxis_attribute_dropdown, output)\n"
   ]
  },
  {
   "cell_type": "markdown",
   "id": "190d9806",
   "metadata": {},
   "source": [
    "Drop wd, because it's catagorical"
   ]
  },
  {
   "cell_type": "code",
   "execution_count": null,
   "id": "2fd3a45e",
   "metadata": {},
   "outputs": [],
   "source": []
  }
 ],
 "metadata": {
  "hide_input": false,
  "kernelspec": {
   "display_name": "Python 3 (ipykernel)",
   "language": "python",
   "name": "python3"
  },
  "language_info": {
   "codemirror_mode": {
    "name": "ipython",
    "version": 3
   },
   "file_extension": ".py",
   "mimetype": "text/x-python",
   "name": "python",
   "nbconvert_exporter": "python",
   "pygments_lexer": "ipython3",
   "version": "3.8.13"
  }
 },
 "nbformat": 4,
 "nbformat_minor": 5
}
