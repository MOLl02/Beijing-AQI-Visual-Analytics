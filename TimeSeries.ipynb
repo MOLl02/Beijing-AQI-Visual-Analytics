{
 "cells": [
  {
   "cell_type": "code",
   "execution_count": 18,
   "id": "122f938f",
   "metadata": {
    "scrolled": false
   },
   "outputs": [
    {
     "data": {
      "application/vnd.jupyter.widget-view+json": {
       "model_id": "298edb03664b43a7aea428126408a8dd",
       "version_major": 2,
       "version_minor": 0
      },
      "text/plain": [
       "SelectMultiple(description='Station:', index=(0, 1), options=(('Aotizhongxin', 1), ('Changping', 2), ('Dinglin…"
      ]
     },
     "metadata": {},
     "output_type": "display_data"
    },
    {
     "data": {
      "application/vnd.jupyter.widget-view+json": {
       "model_id": "dea78a94abb840e38e4402bf3800a266",
       "version_major": 2,
       "version_minor": 0
      },
      "text/plain": [
       "SelectMultiple(description='Attributes:', index=(0, 1, 2), options=('PM2.5', 'PM10', 'SO2', 'NO2', 'CO', 'O3',…"
      ]
     },
     "metadata": {},
     "output_type": "display_data"
    },
    {
     "data": {
      "application/vnd.jupyter.widget-view+json": {
       "model_id": "692fbb9f1e7d4e9aa614ec8fd461b016",
       "version_major": 2,
       "version_minor": 0
      },
      "text/plain": [
       "VBox(children=(HBox(children=(SelectionRangeSlider(continuous_update=False, description='Date Range:', index=(…"
      ]
     },
     "metadata": {},
     "output_type": "display_data"
    },
    {
     "data": {
      "application/vnd.jupyter.widget-view+json": {
       "model_id": "4ad51e3b06a946f39086a1913bf7e5dd",
       "version_major": 2,
       "version_minor": 0
      },
      "text/plain": [
       "Output()"
      ]
     },
     "metadata": {},
     "output_type": "display_data"
    }
   ],
   "source": [
    "import matplotlib.pyplot as plt\n",
    "import pandas as pd\n",
    "import ipywidgets as widgets\n",
    "from IPython.display import display, clear_output\n",
    "from ipywidgets import SelectionRangeSlider, HBox, VBox, Label, Layout\n",
    "import numpy as np\n",
    "\n",
    "df = pd.read_csv('concatenated_data.csv')\n",
    "df['date'] = pd.to_datetime(df[['year', 'month', 'day', 'hour']])\n",
    "\n",
    "station_names = {\n",
    "    1: 'Aotizhongxin',\n",
    "    2: 'Changping',\n",
    "    3: 'Dingling',\n",
    "    4: 'Dongsi',\n",
    "    5: 'Guanyuan',\n",
    "    6: 'Gucheng',\n",
    "    7: 'Huairou',\n",
    "    8: 'Nongzhanguan',\n",
    "    9: 'Shunyi',\n",
    "    10: 'Tiantan',\n",
    "    11: 'Wanliu',\n",
    "    12: 'Wanshouxigong',\n",
    "}\n",
    "\n",
    "station_dropdown = widgets.SelectMultiple(\n",
    "    options=[(station_names[i], i) for i in range(1, 13)],\n",
    "    value=[1,2],\n",
    "    description='Station:'\n",
    ")\n",
    "\n",
    "attribute_multiselect = widgets.SelectMultiple(\n",
    "    options=['PM2.5', 'PM10', 'SO2', 'NO2', 'CO', 'O3', 'TEMP', 'PRES', 'DEWP', 'RAIN', 'WSPM','wd'],\n",
    "    value=['PM2.5', 'PM10', 'SO2'],\n",
    "    description='Attributes:'\n",
    ")\n",
    "\n",
    "date_range_slider = widgets.SelectionRangeSlider(\n",
    "    options=pd.date_range(df['date'].min(), df['date'].max(), freq='D'),\n",
    "    index=(0, len(pd.date_range(df['date'].min(), df['date'].max(), freq='D')) - 1),\n",
    "    description='Date Range:',\n",
    "    continuous_update=False,\n",
    "    layout={'width': '600px'},\n",
    "    readout=False\n",
    ")\n",
    "date_range_slider.style.handle_width = '50px'\n",
    "date_range_slider.style.readout_width = '500px'\n",
    "\n",
    "selected_info = Label(\n",
    "    value=f'Selected Range: {date_range_slider.value[0]} - {date_range_slider.value[1]}',\n",
    "    layout=Layout(margin='0 0 0 0px', width='500px')\n",
    ")\n",
    "\n",
    "def update_info(change):\n",
    "    selected_info.value = f'Selected Range: {date_range_slider.value[0]} - {date_range_slider.value[1]}'\n",
    "\n",
    "date_range_slider.observe(update_info, 'value')\n",
    "hbox = HBox([date_range_slider, selected_info])\n",
    "vbox = VBox([hbox])\n",
    "\n",
    "def create_raw_time_series_plot(stations, attributes, date_range):\n",
    "    clear_output(wait=True)\n",
    "    start_date, end_date = date_range\n",
    "    \n",
    "    num_attributes = len(attributes)\n",
    "    num_stations = len(stations)\n",
    "    fig, axes = plt.subplots(num_attributes, 1, figsize=(15, num_attributes * 3), sharex=True)\n",
    "    \n",
    "    if num_attributes == 1:\n",
    "        axes = [axes]\n",
    "    \n",
    "    colors = plt.cm.rainbow(np.linspace(0, 1, num_stations))\n",
    "    \n",
    "    for i, attribute in enumerate(attributes):\n",
    "        for j, station in enumerate(stations):\n",
    "            filtered_df = df[(df['station'] == station) & (df['date'].between(start_date, end_date))]\n",
    "            axes[i].plot(filtered_df['date'], filtered_df[attribute], label=f'Station {station_names[station]}', color=colors[j])\n",
    "        axes[i].set_title(attribute)\n",
    "        axes[i].legend(loc='upper left')\n",
    "\n",
    "    \n",
    "    plt.suptitle(\"Time Series Graph of Selected Attributes and Stations\", y=1.02)\n",
    "    plt.tight_layout()\n",
    "    plt.show()\n",
    "\n",
    "\n",
    "\n",
    "output = widgets.interactive_output(\n",
    "    create_raw_time_series_plot,\n",
    "    {\n",
    "        'stations': station_dropdown,\n",
    "        'attributes': attribute_multiselect,\n",
    "        'date_range': date_range_slider,\n",
    "    }\n",
    ")\n",
    "\n",
    "\n",
    "display(station_dropdown, attribute_multiselect, vbox, output)\n"
   ]
  },
  {
   "cell_type": "code",
   "execution_count": 16,
   "id": "528e1c1e",
   "metadata": {},
   "outputs": [
    {
     "data": {
      "text/plain": [
       "\"\\ndef create_raw_time_series_plot(station, attributes, date_range, window_size=7):\\n    clear_output(wait=True)\\n    start_date, end_date = date_range\\n    filtered_df = df[(df['station'] == station) & (df['date'].between(start_date, end_date))].copy()\\n\\n    fig, ax = plt.subplots(figsize=(12, 6))\\n\\n    # Scale each attribute to a fixed range and apply rolling average\\n    for i, attribute in enumerate(attributes):\\n        attribute_values = filtered_df[attribute]\\n        attribute_min = attribute_values.min()\\n        attribute_max = attribute_values.max()\\n        attribute_range = attribute_max - attribute_min\\n        scaled_attribute = (attribute_values - attribute_min) / attribute_range * 0.8 + 0.1 * (i + 1)\\n        smoothed_attribute = scaled_attribute.rolling(window_size, min_periods=1).mean()\\n        ax.plot(filtered_df['date'], smoothed_attribute, label=attribute)\\n\\n    ax.set(xlabel='Date', ylabel='Value')\\n    ax.legend()\\n    plt.show()\\n\""
      ]
     },
     "execution_count": 16,
     "metadata": {},
     "output_type": "execute_result"
    }
   ],
   "source": [
    "\n",
    "'''\n",
    "def create_raw_time_series_plot(station, attributes, date_range, window_size=7):\n",
    "    clear_output(wait=True)\n",
    "    start_date, end_date = date_range\n",
    "    filtered_df = df[(df['station'] == station) & (df['date'].between(start_date, end_date))].copy()\n",
    "\n",
    "    fig, ax = plt.subplots(figsize=(12, 6))\n",
    "\n",
    "    # Scale each attribute to a fixed range and apply rolling average\n",
    "    for i, attribute in enumerate(attributes):\n",
    "        attribute_values = filtered_df[attribute]\n",
    "        attribute_min = attribute_values.min()\n",
    "        attribute_max = attribute_values.max()\n",
    "        attribute_range = attribute_max - attribute_min\n",
    "        scaled_attribute = (attribute_values - attribute_min) / attribute_range * 0.8 + 0.1 * (i + 1)\n",
    "        smoothed_attribute = scaled_attribute.rolling(window_size, min_periods=1).mean()\n",
    "        ax.plot(filtered_df['date'], smoothed_attribute, label=attribute)\n",
    "\n",
    "    ax.set(xlabel='Date', ylabel='Value')\n",
    "    ax.legend()\n",
    "    plt.show()\n",
    "'''"
   ]
  },
  {
   "cell_type": "code",
   "execution_count": 8,
   "id": "28aa30b0",
   "metadata": {},
   "outputs": [],
   "source": [
    "def create_raw_time_series_plot(station, attributes, date_range):\n",
    "    clear_output(wait=True)\n",
    "    start_date, end_date = date_range\n",
    "    filtered_df = df[(df['station'] == station) & (df['date'].between(start_date, end_date))]\n",
    "\n",
    "    num_attributes = len(attributes)\n",
    "    fig, axes = plt.subplots(num_attributes, 1, figsize=(15, num_attributes * 3), sharex=True)\n",
    "    \n",
    "    if num_attributes == 1:\n",
    "        axes = [axes]\n",
    "    \n",
    "    for i, attribute in enumerate(attributes):\n",
    "        axes[i].plot(filtered_df['date'], filtered_df[attribute], label=f'Station {station}')\n",
    "        axes[i].set_title(attribute)\n",
    "    \n",
    "    plt.suptitle(\"Time Series Graph of Selected Attributes and Station\", y=1.02)\n",
    "    plt.tight_layout()\n",
    "    plt.show()"
   ]
  },
  {
   "cell_type": "code",
   "execution_count": 9,
   "id": "f47ba843",
   "metadata": {},
   "outputs": [],
   "source": [
    "def create_raw_time_series_plot(stations, attributes, date_range):\n",
    "    clear_output(wait=True)\n",
    "    start_date, end_date = date_range\n",
    "    \n",
    "    num_attributes = len(attributes)\n",
    "    num_stations = len(stations)\n",
    "    fig, axes = plt.subplots(num_attributes, 1, figsize=(15, num_attributes * 3), sharex=True)\n",
    "    \n",
    "    if num_attributes == 1:\n",
    "        axes = [axes]\n",
    "    \n",
    "    colors = plt.cm.rainbow(np.linspace(0, 1, num_stations))\n",
    "    \n",
    "    for i, attribute in enumerate(attributes):\n",
    "        for j, station in enumerate(stations):\n",
    "            filtered_df = df[(df['station'] == station) & (df['date'].between(start_date, end_date))]\n",
    "            axes[i].plot(filtered_df['date'], filtered_df[attribute], label=f'Station {station}', color=colors[j])\n",
    "        axes[i].set_title(attribute)\n",
    "    \n",
    "    plt.suptitle(\"Time Series Graph of Selected Attributes and Stations\", y=1.02)\n",
    "    plt.tight_layout()\n",
    "    plt.show()\n"
   ]
  },
  {
   "cell_type": "markdown",
   "id": "75b7c6a4",
   "metadata": {},
   "source": [
    "### Trend Analysis and detect anomaly "
   ]
  },
  {
   "cell_type": "code",
   "execution_count": 32,
   "id": "6c9ee8a3",
   "metadata": {},
   "outputs": [],
   "source": [
    "def detect_anomalies_iqr(data, factor=2):\n",
    "    Q1 = data.quantile(0.25)\n",
    "    Q3 = data.quantile(0.75)\n",
    "    IQR = Q3 - Q1\n",
    "    lower_bound = Q1 - (factor-1.8) * IQR\n",
    "    upper_bound = Q3 + factor * IQR\n",
    "    anomalies = (data < lower_bound) | (data > upper_bound)\n",
    "    return anomalies\n"
   ]
  },
  {
   "cell_type": "code",
   "execution_count": 33,
   "id": "e8b5642d",
   "metadata": {},
   "outputs": [],
   "source": [
    "def create_raw_time_series_plot(station, attributes, date_range, window_size=7):\n",
    "    clear_output(wait=True)\n",
    "    start_date, end_date = date_range\n",
    "    filtered_df = df[(df['station'] == station) & (df['date'].between(start_date, end_date))].copy()\n",
    "\n",
    "    fig, ax = plt.subplots(figsize=(12, 6))\n",
    "\n",
    "    # Scale each attribute to a fixed range and apply rolling average\n",
    "    for i, attribute in enumerate(attributes):\n",
    "        attribute_values = filtered_df[attribute]\n",
    "        attribute_min = attribute_values.min()\n",
    "        attribute_max = attribute_values.max()\n",
    "        attribute_range = attribute_max - attribute_min\n",
    "        scaled_attribute = (attribute_values - attribute_min) / attribute_range * 0.8 + 0.1 * (i + 1)\n",
    "        smoothed_attribute = scaled_attribute.rolling(window_size, min_periods=1).mean()\n",
    "        ax.plot(filtered_df['date'], smoothed_attribute, label=attribute)\n",
    "        \n",
    "        # Detect and plot anomalies using the IQR method\n",
    "        anomalies = detect_anomalies_iqr(attribute_values)\n",
    "        anomaly_dates = filtered_df.loc[anomalies, 'date']\n",
    "        anomaly_values = smoothed_attribute.loc[anomalies]\n",
    "        ax.scatter(anomaly_dates, anomaly_values, marker='o', edgecolors='red', facecolors='none', label=f'{attribute} Anomaly')\n",
    "\n",
    "    ax.set(xlabel='Date', ylabel='Value')\n",
    "    ax.legend()\n",
    "    plt.show()\n"
   ]
  },
  {
   "cell_type": "code",
   "execution_count": 10,
   "id": "24be016d",
   "metadata": {},
   "outputs": [
    {
     "data": {
      "application/vnd.jupyter.widget-view+json": {
       "model_id": "a604494dcc1d4e6aa4ffc1bb210f7ba8",
       "version_major": 2,
       "version_minor": 0
      },
      "text/plain": [
       "SelectMultiple(description='Station:', index=(0, 1), options=(('Aotizhongxin', 1), ('Changping', 2), ('Dinglin…"
      ]
     },
     "metadata": {},
     "output_type": "display_data"
    },
    {
     "data": {
      "application/vnd.jupyter.widget-view+json": {
       "model_id": "6384d273d6914c9da003a89d00618188",
       "version_major": 2,
       "version_minor": 0
      },
      "text/plain": [
       "SelectMultiple(description='Attributes:', index=(0,), options=('PM2.5', 'PM10', 'SO2', 'NO2', 'CO', 'O3', 'TEM…"
      ]
     },
     "metadata": {},
     "output_type": "display_data"
    },
    {
     "data": {
      "application/vnd.jupyter.widget-view+json": {
       "model_id": "675f6655df8648558f9b489d96f467f7",
       "version_major": 2,
       "version_minor": 0
      },
      "text/plain": [
       "VBox(children=(HBox(children=(SelectionRangeSlider(continuous_update=False, description='Date Range:', index=(…"
      ]
     },
     "metadata": {},
     "output_type": "display_data"
    },
    {
     "data": {
      "application/vnd.jupyter.widget-view+json": {
       "model_id": "0610d366ac19446894d84cc31ed9321b",
       "version_major": 2,
       "version_minor": 0
      },
      "text/plain": [
       "Output()"
      ]
     },
     "metadata": {},
     "output_type": "display_data"
    }
   ],
   "source": [
    "output = widgets.interactive_output(\n",
    "    \n",
    "\n",
    "    create_raw_time_series_plot,\n",
    "    {\n",
    "        'station': station_dropdown,\n",
    "        'attributes': attribute_multiselect,\n",
    "        'date_range': date_range_slider,\n",
    "    }\n",
    ")\n",
    "\n",
    "display(station_dropdown, attribute_multiselect, vbox, output)"
   ]
  },
  {
   "cell_type": "code",
   "execution_count": 35,
   "id": "a7f5de65",
   "metadata": {},
   "outputs": [],
   "source": [
    "from scipy import stats\n",
    "\n",
    "def detect_anomalies_z_score(data, threshold=2):\n",
    "    z_scores = np.abs(stats.zscore(data))\n",
    "    anomalies = z_scores > threshold\n",
    "    return anomalies\n"
   ]
  },
  {
   "cell_type": "code",
   "execution_count": 36,
   "id": "19dcdce0",
   "metadata": {},
   "outputs": [],
   "source": [
    "def create_raw_time_series_plot(station, attributes, date_range, window_size=7):\n",
    "    clear_output(wait=True)\n",
    "    start_date, end_date = date_range\n",
    "    filtered_df = df[(df['station'] == station) & (df['date'].between(start_date, end_date))].copy()\n",
    "\n",
    "    fig, ax = plt.subplots(figsize=(12, 6))\n",
    "\n",
    "    # Scale each attribute to a fixed range and apply rolling average\n",
    "    for i, attribute in enumerate(attributes):\n",
    "        attribute_values = filtered_df[attribute]\n",
    "        attribute_min = attribute_values.min()\n",
    "        attribute_max = attribute_values.max()\n",
    "        attribute_range = attribute_max - attribute_min\n",
    "        scaled_attribute = (attribute_values - attribute_min) / attribute_range * 0.8 + 0.1 * (i + 1)\n",
    "        smoothed_attribute = scaled_attribute.rolling(window_size, min_periods=1).mean()\n",
    "        ax.plot(filtered_df['date'], smoothed_attribute, label=attribute)\n",
    "        \n",
    "        # Detect and plot anomalies using the IQR method\n",
    "        anomalies = detect_anomalies_iqr(attribute_values)\n",
    "        anomaly_dates = filtered_df.loc[anomalies, 'date']\n",
    "        anomaly_values = smoothed_attribute.loc[anomalies]\n",
    "        ax.scatter(anomaly_dates, anomaly_values, marker='o', edgecolors='red', facecolors='none', label=f'{attribute} Anomaly')\n",
    "\n",
    "    ax.set(xlabel='Date', ylabel='Value')\n",
    "    ax.legend()\n",
    "    plt.show()"
   ]
  },
  {
   "cell_type": "code",
   "execution_count": 37,
   "id": "d1ffe919",
   "metadata": {},
   "outputs": [
    {
     "data": {
      "application/vnd.jupyter.widget-view+json": {
       "model_id": "e5dbc74b2eea4a5f911d3ce9ed4d82f5",
       "version_major": 2,
       "version_minor": 0
      },
      "text/plain": [
       "Dropdown(description='Station:', options=(('Aotizhongxin', 1), ('Changping', 2), ('Dingling', 3), ('Dongsi', 4…"
      ]
     },
     "metadata": {},
     "output_type": "display_data"
    },
    {
     "data": {
      "application/vnd.jupyter.widget-view+json": {
       "model_id": "60327e38f18046df86ec4c9999f4c508",
       "version_major": 2,
       "version_minor": 0
      },
      "text/plain": [
       "SelectMultiple(description='Attributes:', index=(0, 4), options=('PM2.5', 'PM10', 'SO2', 'NO2', 'CO', 'O3', 'T…"
      ]
     },
     "metadata": {},
     "output_type": "display_data"
    },
    {
     "data": {
      "application/vnd.jupyter.widget-view+json": {
       "model_id": "01da67b8e5e449e6a0240425d3bb79ac",
       "version_major": 2,
       "version_minor": 0
      },
      "text/plain": [
       "VBox(children=(HBox(children=(SelectionRangeSlider(continuous_update=False, description='Date Range:', index=(…"
      ]
     },
     "metadata": {},
     "output_type": "display_data"
    },
    {
     "data": {
      "application/vnd.jupyter.widget-view+json": {
       "model_id": "5f59af64570e47a49fcd3d3e99dd236b",
       "version_major": 2,
       "version_minor": 0
      },
      "text/plain": [
       "Output()"
      ]
     },
     "metadata": {},
     "output_type": "display_data"
    }
   ],
   "source": [
    "output = widgets.interactive_output(\n",
    "    create_raw_time_series_plot,\n",
    "    {\n",
    "        'station': station_dropdown,\n",
    "        'attributes': attribute_multiselect,\n",
    "        'date_range': date_range_slider,\n",
    "    }\n",
    ")\n",
    "\n",
    "display(station_dropdown, attribute_multiselect, vbox, output)"
   ]
  },
  {
   "cell_type": "code",
   "execution_count": null,
   "id": "1c0bbad1",
   "metadata": {},
   "outputs": [],
   "source": []
  }
 ],
 "metadata": {
  "hide_input": false,
  "kernelspec": {
   "display_name": "Python 3 (ipykernel)",
   "language": "python",
   "name": "python3"
  },
  "language_info": {
   "codemirror_mode": {
    "name": "ipython",
    "version": 3
   },
   "file_extension": ".py",
   "mimetype": "text/x-python",
   "name": "python",
   "nbconvert_exporter": "python",
   "pygments_lexer": "ipython3",
   "version": "3.8.13"
  }
 },
 "nbformat": 4,
 "nbformat_minor": 5
}
